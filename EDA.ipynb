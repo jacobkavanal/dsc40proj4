{
 "cells": [
  {
   "cell_type": "markdown",
   "id": "33ea3fb3",
   "metadata": {},
   "source": [
    "# Recipes and Ratings\n",
    "\n",
    "**Name(s)**: Kang Lee, Jacob Kavanal\n",
    "\n",
    "**Website Link**: (your website link)"
   ]
  },
  {
   "cell_type": "code",
   "execution_count": 1,
   "id": "908ad4aa",
   "metadata": {},
   "outputs": [],
   "source": [
    "import pandas as pd\n",
    "import numpy as np\n",
    "from pathlib import Path\n",
    "\n",
    "import plotly.express as px\n",
    "pd.options.plotting.backend = 'plotly'\n",
    "\n",
    "from dsc80_utils import *"
   ]
  },
  {
   "cell_type": "markdown",
   "id": "7e574242",
   "metadata": {},
   "source": [
    "## Introduction"
   ]
  },
  {
   "cell_type": "code",
   "execution_count": 2,
   "id": "719a5d7b-57e5-4594-b507-87a79f6e4ffa",
   "metadata": {
    "tags": []
   },
   "outputs": [],
   "source": [
    "# Read in files\n",
    "recipes = pd.read_csv('data/RAW_recipes.csv')\n",
    "ratings = pd.read_csv('data/interactions.csv')"
   ]
  },
  {
   "cell_type": "code",
   "execution_count": 3,
   "id": "10c40469-dbe7-4e80-9fd3-23ef7285bb26",
   "metadata": {
    "tags": []
   },
   "outputs": [
    {
     "data": {
      "text/html": [
       "<div>\n",
       "<style scoped>\n",
       "    .dataframe tbody tr th:only-of-type {\n",
       "        vertical-align: middle;\n",
       "    }\n",
       "\n",
       "    .dataframe tbody tr th {\n",
       "        vertical-align: top;\n",
       "    }\n",
       "\n",
       "    .dataframe thead th {\n",
       "        text-align: right;\n",
       "    }\n",
       "</style>\n",
       "<table border=\"1\" class=\"dataframe\">\n",
       "  <thead>\n",
       "    <tr style=\"text-align: right;\">\n",
       "      <th></th>\n",
       "      <th>name</th>\n",
       "      <th>id</th>\n",
       "      <th>minutes</th>\n",
       "      <th>contributor_id</th>\n",
       "      <th>...</th>\n",
       "      <th>steps</th>\n",
       "      <th>description</th>\n",
       "      <th>ingredients</th>\n",
       "      <th>n_ingredients</th>\n",
       "    </tr>\n",
       "  </thead>\n",
       "  <tbody>\n",
       "    <tr>\n",
       "      <th>0</th>\n",
       "      <td>1 brownies in the world    best ever</td>\n",
       "      <td>333281</td>\n",
       "      <td>40</td>\n",
       "      <td>985201</td>\n",
       "      <td>...</td>\n",
       "      <td>['heat the oven to 350f and arrange the rack i...</td>\n",
       "      <td>these are the most; chocolatey, moist, rich, d...</td>\n",
       "      <td>['bittersweet chocolate', 'unsalted butter', '...</td>\n",
       "      <td>9</td>\n",
       "    </tr>\n",
       "    <tr>\n",
       "      <th>1</th>\n",
       "      <td>1 in canada chocolate chip cookies</td>\n",
       "      <td>453467</td>\n",
       "      <td>45</td>\n",
       "      <td>1848091</td>\n",
       "      <td>...</td>\n",
       "      <td>['pre-heat oven the 350 degrees f', 'in a mixi...</td>\n",
       "      <td>this is the recipe that we use at my school ca...</td>\n",
       "      <td>['white sugar', 'brown sugar', 'salt', 'margar...</td>\n",
       "      <td>11</td>\n",
       "    </tr>\n",
       "    <tr>\n",
       "      <th>2</th>\n",
       "      <td>412 broccoli casserole</td>\n",
       "      <td>306168</td>\n",
       "      <td>40</td>\n",
       "      <td>50969</td>\n",
       "      <td>...</td>\n",
       "      <td>['preheat oven to 350 degrees', 'spray a 2 qua...</td>\n",
       "      <td>since there are already 411 recipes for brocco...</td>\n",
       "      <td>['frozen broccoli cuts', 'cream of chicken sou...</td>\n",
       "      <td>9</td>\n",
       "    </tr>\n",
       "    <tr>\n",
       "      <th>...</th>\n",
       "      <td>...</td>\n",
       "      <td>...</td>\n",
       "      <td>...</td>\n",
       "      <td>...</td>\n",
       "      <td>...</td>\n",
       "      <td>...</td>\n",
       "      <td>...</td>\n",
       "      <td>...</td>\n",
       "      <td>...</td>\n",
       "    </tr>\n",
       "    <tr>\n",
       "      <th>83779</th>\n",
       "      <td>zydeco ya ya deviled eggs</td>\n",
       "      <td>308080</td>\n",
       "      <td>40</td>\n",
       "      <td>37779</td>\n",
       "      <td>...</td>\n",
       "      <td>['in a bowl , combine the mashed yolks and may...</td>\n",
       "      <td>deviled eggs, cajun-style</td>\n",
       "      <td>['hard-cooked eggs', 'mayonnaise', 'dijon must...</td>\n",
       "      <td>8</td>\n",
       "    </tr>\n",
       "    <tr>\n",
       "      <th>83780</th>\n",
       "      <td>cookies by design   cookies on a stick</td>\n",
       "      <td>298512</td>\n",
       "      <td>29</td>\n",
       "      <td>506822</td>\n",
       "      <td>...</td>\n",
       "      <td>['place melted butter in a large mixing bowl a...</td>\n",
       "      <td>i've heard of the 'cookies by design' company,...</td>\n",
       "      <td>['butter', 'eagle brand condensed milk', 'ligh...</td>\n",
       "      <td>10</td>\n",
       "    </tr>\n",
       "    <tr>\n",
       "      <th>83781</th>\n",
       "      <td>cookies by design   sugar shortbread cookies</td>\n",
       "      <td>298509</td>\n",
       "      <td>20</td>\n",
       "      <td>506822</td>\n",
       "      <td>...</td>\n",
       "      <td>['whip sugar and shortening in a large bowl , ...</td>\n",
       "      <td>i've heard of the 'cookies by design' company,...</td>\n",
       "      <td>['granulated sugar', 'shortening', 'eggs', 'fl...</td>\n",
       "      <td>7</td>\n",
       "    </tr>\n",
       "  </tbody>\n",
       "</table>\n",
       "<p>83782 rows × 12 columns</p>\n",
       "</div>"
      ],
      "text/plain": [
       "                                               name      id  minutes  \\\n",
       "0              1 brownies in the world    best ever  333281       40   \n",
       "1                1 in canada chocolate chip cookies  453467       45   \n",
       "2                            412 broccoli casserole  306168       40   \n",
       "...                                             ...     ...      ...   \n",
       "83779                     zydeco ya ya deviled eggs  308080       40   \n",
       "83780        cookies by design   cookies on a stick  298512       29   \n",
       "83781  cookies by design   sugar shortbread cookies  298509       20   \n",
       "\n",
       "       contributor_id  ...                                              steps  \\\n",
       "0              985201  ...  ['heat the oven to 350f and arrange the rack i...   \n",
       "1             1848091  ...  ['pre-heat oven the 350 degrees f', 'in a mixi...   \n",
       "2               50969  ...  ['preheat oven to 350 degrees', 'spray a 2 qua...   \n",
       "...               ...  ...                                                ...   \n",
       "83779           37779  ...  ['in a bowl , combine the mashed yolks and may...   \n",
       "83780          506822  ...  ['place melted butter in a large mixing bowl a...   \n",
       "83781          506822  ...  ['whip sugar and shortening in a large bowl , ...   \n",
       "\n",
       "                                             description  \\\n",
       "0      these are the most; chocolatey, moist, rich, d...   \n",
       "1      this is the recipe that we use at my school ca...   \n",
       "2      since there are already 411 recipes for brocco...   \n",
       "...                                                  ...   \n",
       "83779                          deviled eggs, cajun-style   \n",
       "83780  i've heard of the 'cookies by design' company,...   \n",
       "83781  i've heard of the 'cookies by design' company,...   \n",
       "\n",
       "                                             ingredients  n_ingredients  \n",
       "0      ['bittersweet chocolate', 'unsalted butter', '...              9  \n",
       "1      ['white sugar', 'brown sugar', 'salt', 'margar...             11  \n",
       "2      ['frozen broccoli cuts', 'cream of chicken sou...              9  \n",
       "...                                                  ...            ...  \n",
       "83779  ['hard-cooked eggs', 'mayonnaise', 'dijon must...              8  \n",
       "83780  ['butter', 'eagle brand condensed milk', 'ligh...             10  \n",
       "83781  ['granulated sugar', 'shortening', 'eggs', 'fl...              7  \n",
       "\n",
       "[83782 rows x 12 columns]"
      ]
     },
     "execution_count": 3,
     "metadata": {},
     "output_type": "execute_result"
    }
   ],
   "source": [
    "recipes"
   ]
  },
  {
   "cell_type": "code",
   "execution_count": 4,
   "id": "4526e460",
   "metadata": {},
   "outputs": [
    {
     "data": {
      "text/html": [
       "<div>\n",
       "<style scoped>\n",
       "    .dataframe tbody tr th:only-of-type {\n",
       "        vertical-align: middle;\n",
       "    }\n",
       "\n",
       "    .dataframe tbody tr th {\n",
       "        vertical-align: top;\n",
       "    }\n",
       "\n",
       "    .dataframe thead th {\n",
       "        text-align: right;\n",
       "    }\n",
       "</style>\n",
       "<table border=\"1\" class=\"dataframe\">\n",
       "  <thead>\n",
       "    <tr style=\"text-align: right;\">\n",
       "      <th></th>\n",
       "      <th>user_id</th>\n",
       "      <th>recipe_id</th>\n",
       "      <th>date</th>\n",
       "      <th>rating</th>\n",
       "      <th>review</th>\n",
       "    </tr>\n",
       "  </thead>\n",
       "  <tbody>\n",
       "    <tr>\n",
       "      <th>0</th>\n",
       "      <td>1293707</td>\n",
       "      <td>40893</td>\n",
       "      <td>2011-12-21</td>\n",
       "      <td>5</td>\n",
       "      <td>So simple, so delicious! Great for chilly fall...</td>\n",
       "    </tr>\n",
       "    <tr>\n",
       "      <th>1</th>\n",
       "      <td>126440</td>\n",
       "      <td>85009</td>\n",
       "      <td>2010-02-27</td>\n",
       "      <td>5</td>\n",
       "      <td>I made the Mexican topping and took it to bunk...</td>\n",
       "    </tr>\n",
       "    <tr>\n",
       "      <th>2</th>\n",
       "      <td>57222</td>\n",
       "      <td>85009</td>\n",
       "      <td>2011-10-01</td>\n",
       "      <td>5</td>\n",
       "      <td>Made the cheddar bacon topping, adding a sprin...</td>\n",
       "    </tr>\n",
       "    <tr>\n",
       "      <th>...</th>\n",
       "      <td>...</td>\n",
       "      <td>...</td>\n",
       "      <td>...</td>\n",
       "      <td>...</td>\n",
       "      <td>...</td>\n",
       "    </tr>\n",
       "    <tr>\n",
       "      <th>731924</th>\n",
       "      <td>157126</td>\n",
       "      <td>78003</td>\n",
       "      <td>2008-06-23</td>\n",
       "      <td>5</td>\n",
       "      <td>WOW!  Sometimes I don't take the time to rate ...</td>\n",
       "    </tr>\n",
       "    <tr>\n",
       "      <th>731925</th>\n",
       "      <td>53932</td>\n",
       "      <td>78003</td>\n",
       "      <td>2009-01-11</td>\n",
       "      <td>4</td>\n",
       "      <td>Very good!  I used regular port as well.  The ...</td>\n",
       "    </tr>\n",
       "    <tr>\n",
       "      <th>731926</th>\n",
       "      <td>2001868099</td>\n",
       "      <td>78003</td>\n",
       "      <td>2017-12-18</td>\n",
       "      <td>5</td>\n",
       "      <td>I am so glad I googled and found this here. Th...</td>\n",
       "    </tr>\n",
       "  </tbody>\n",
       "</table>\n",
       "<p>731927 rows × 5 columns</p>\n",
       "</div>"
      ],
      "text/plain": [
       "           user_id  recipe_id        date  rating  \\\n",
       "0          1293707      40893  2011-12-21       5   \n",
       "1           126440      85009  2010-02-27       5   \n",
       "2            57222      85009  2011-10-01       5   \n",
       "...            ...        ...         ...     ...   \n",
       "731924      157126      78003  2008-06-23       5   \n",
       "731925       53932      78003  2009-01-11       4   \n",
       "731926  2001868099      78003  2017-12-18       5   \n",
       "\n",
       "                                                   review  \n",
       "0       So simple, so delicious! Great for chilly fall...  \n",
       "1       I made the Mexican topping and took it to bunk...  \n",
       "2       Made the cheddar bacon topping, adding a sprin...  \n",
       "...                                                   ...  \n",
       "731924  WOW!  Sometimes I don't take the time to rate ...  \n",
       "731925  Very good!  I used regular port as well.  The ...  \n",
       "731926  I am so glad I googled and found this here. Th...  \n",
       "\n",
       "[731927 rows x 5 columns]"
      ]
     },
     "execution_count": 4,
     "metadata": {},
     "output_type": "execute_result"
    }
   ],
   "source": [
    "ratings"
   ]
  },
  {
   "cell_type": "code",
   "execution_count": 5,
   "id": "fb4f7f36",
   "metadata": {},
   "outputs": [],
   "source": [
    "# Merge dataframes\n",
    "merged = recipes.merge(ratings, how=\"left\", left_on=\"id\", right_on=\"recipe_id\")\n",
    "merged['rating'] = merged['rating'].replace(0, np.nan)"
   ]
  },
  {
   "cell_type": "code",
   "execution_count": 6,
   "id": "644bceed",
   "metadata": {},
   "outputs": [],
   "source": [
    "# Find average rating per recipe\n",
    "avg_ratings = merged.groupby('id')['rating'].mean()\n",
    "avg_ratings_df = avg_ratings.reset_index().rename(columns={'rating': 'avg_rating'})\n",
    "\n",
    "recipes = recipes.merge(avg_ratings_df, how='left', on='id')"
   ]
  },
  {
   "cell_type": "markdown",
   "id": "e317bccd",
   "metadata": {},
   "source": [
    "## Data Cleaning and Exploratory Data Analysis"
   ]
  },
  {
   "cell_type": "markdown",
   "id": "d8bb7415",
   "metadata": {},
   "source": [
    "Handling Missingness"
   ]
  },
  {
   "cell_type": "code",
   "execution_count": 7,
   "id": "97edfb3c",
   "metadata": {},
   "outputs": [
    {
     "name": "stdout",
     "output_type": "stream",
     "text": [
      "Index(['name', 'description', 'avg_rating'], dtype='object')\n"
     ]
    }
   ],
   "source": [
    "# Finding columns with missing vals\n",
    "nan_columns = recipes.columns[recipes.isnull().any()]\n",
    "\n",
    "print(nan_columns)"
   ]
  },
  {
   "cell_type": "code",
   "execution_count": 8,
   "id": "06a59c86",
   "metadata": {},
   "outputs": [
    {
     "data": {
      "text/html": [
       "<div>\n",
       "<style scoped>\n",
       "    .dataframe tbody tr th:only-of-type {\n",
       "        vertical-align: middle;\n",
       "    }\n",
       "\n",
       "    .dataframe tbody tr th {\n",
       "        vertical-align: top;\n",
       "    }\n",
       "\n",
       "    .dataframe thead th {\n",
       "        text-align: right;\n",
       "    }\n",
       "</style>\n",
       "<table border=\"1\" class=\"dataframe\">\n",
       "  <thead>\n",
       "    <tr style=\"text-align: right;\">\n",
       "      <th></th>\n",
       "      <th>name</th>\n",
       "      <th>id</th>\n",
       "      <th>minutes</th>\n",
       "      <th>contributor_id</th>\n",
       "      <th>...</th>\n",
       "      <th>description</th>\n",
       "      <th>ingredients</th>\n",
       "      <th>n_ingredients</th>\n",
       "      <th>avg_rating</th>\n",
       "    </tr>\n",
       "  </thead>\n",
       "  <tbody>\n",
       "    <tr>\n",
       "      <th>1486</th>\n",
       "      <td>almond cookie bites</td>\n",
       "      <td>401761</td>\n",
       "      <td>16</td>\n",
       "      <td>1434673</td>\n",
       "      <td>...</td>\n",
       "      <td>NaN</td>\n",
       "      <td>['all-purpose flour', \"fisher chef's naturals ...</td>\n",
       "      <td>9</td>\n",
       "      <td>2.67</td>\n",
       "    </tr>\n",
       "    <tr>\n",
       "      <th>3087</th>\n",
       "      <td>apricot gorgonzola crescent appetizers</td>\n",
       "      <td>332410</td>\n",
       "      <td>40</td>\n",
       "      <td>991676</td>\n",
       "      <td>...</td>\n",
       "      <td>NaN</td>\n",
       "      <td>['pillsbury refrigerated crescent dinner rolls...</td>\n",
       "      <td>6</td>\n",
       "      <td>4.67</td>\n",
       "    </tr>\n",
       "    <tr>\n",
       "      <th>3685</th>\n",
       "      <td>asparagus milanese</td>\n",
       "      <td>382664</td>\n",
       "      <td>15</td>\n",
       "      <td>714468</td>\n",
       "      <td>...</td>\n",
       "      <td>NaN</td>\n",
       "      <td>['asparagus', 'parmigiano-reggiano cheese', 'b...</td>\n",
       "      <td>5</td>\n",
       "      <td>4.50</td>\n",
       "    </tr>\n",
       "    <tr>\n",
       "      <th>...</th>\n",
       "      <td>...</td>\n",
       "      <td>...</td>\n",
       "      <td>...</td>\n",
       "      <td>...</td>\n",
       "      <td>...</td>\n",
       "      <td>...</td>\n",
       "      <td>...</td>\n",
       "      <td>...</td>\n",
       "      <td>...</td>\n",
       "    </tr>\n",
       "    <tr>\n",
       "      <th>81188</th>\n",
       "      <td>wasatch mountain chili</td>\n",
       "      <td>290480</td>\n",
       "      <td>50</td>\n",
       "      <td>778477</td>\n",
       "      <td>...</td>\n",
       "      <td>NaN</td>\n",
       "      <td>['onion', 'olive oil', 'hominy', 'great northe...</td>\n",
       "      <td>14</td>\n",
       "      <td>5.00</td>\n",
       "    </tr>\n",
       "    <tr>\n",
       "      <th>81701</th>\n",
       "      <td>white bean chicken chili   giada de laurentiis</td>\n",
       "      <td>430591</td>\n",
       "      <td>75</td>\n",
       "      <td>714468</td>\n",
       "      <td>...</td>\n",
       "      <td>NaN</td>\n",
       "      <td>['olive oil', 'onion', 'garlic cloves', 'groun...</td>\n",
       "      <td>18</td>\n",
       "      <td>5.00</td>\n",
       "    </tr>\n",
       "    <tr>\n",
       "      <th>83070</th>\n",
       "      <td>yukon gold potatoes  jacques pepin style</td>\n",
       "      <td>387006</td>\n",
       "      <td>20</td>\n",
       "      <td>714468</td>\n",
       "      <td>...</td>\n",
       "      <td>NaN</td>\n",
       "      <td>['yukon gold potatoes', 'salt', 'fresh ground ...</td>\n",
       "      <td>6</td>\n",
       "      <td>4.00</td>\n",
       "    </tr>\n",
       "  </tbody>\n",
       "</table>\n",
       "<p>70 rows × 13 columns</p>\n",
       "</div>"
      ],
      "text/plain": [
       "                                                 name      id  minutes  \\\n",
       "1486                              almond cookie bites  401761       16   \n",
       "3087           apricot gorgonzola crescent appetizers  332410       40   \n",
       "3685                               asparagus milanese  382664       15   \n",
       "...                                               ...     ...      ...   \n",
       "81188                          wasatch mountain chili  290480       50   \n",
       "81701  white bean chicken chili   giada de laurentiis  430591       75   \n",
       "83070        yukon gold potatoes  jacques pepin style  387006       20   \n",
       "\n",
       "       contributor_id  ... description  \\\n",
       "1486          1434673  ...         NaN   \n",
       "3087           991676  ...         NaN   \n",
       "3685           714468  ...         NaN   \n",
       "...               ...  ...         ...   \n",
       "81188          778477  ...         NaN   \n",
       "81701          714468  ...         NaN   \n",
       "83070          714468  ...         NaN   \n",
       "\n",
       "                                             ingredients n_ingredients  \\\n",
       "1486   ['all-purpose flour', \"fisher chef's naturals ...             9   \n",
       "3087   ['pillsbury refrigerated crescent dinner rolls...             6   \n",
       "3685   ['asparagus', 'parmigiano-reggiano cheese', 'b...             5   \n",
       "...                                                  ...           ...   \n",
       "81188  ['onion', 'olive oil', 'hominy', 'great northe...            14   \n",
       "81701  ['olive oil', 'onion', 'garlic cloves', 'groun...            18   \n",
       "83070  ['yukon gold potatoes', 'salt', 'fresh ground ...             6   \n",
       "\n",
       "       avg_rating  \n",
       "1486         2.67  \n",
       "3087         4.67  \n",
       "3685         4.50  \n",
       "...           ...  \n",
       "81188        5.00  \n",
       "81701        5.00  \n",
       "83070        4.00  \n",
       "\n",
       "[70 rows x 13 columns]"
      ]
     },
     "execution_count": 8,
     "metadata": {},
     "output_type": "execute_result"
    }
   ],
   "source": [
    "recipes[recipes['name'].isna()] # 1 Missing\n",
    "recipes[recipes['description'].isna()] # 70 Missing"
   ]
  },
  {
   "cell_type": "code",
   "execution_count": 9,
   "id": "4530812d",
   "metadata": {},
   "outputs": [
    {
     "data": {
      "text/plain": [
       "\"['in a bowl , combine ingredients except for olive oil', 'slowly whisk inches', 'olive oil until thickened', 'great with field greens', 'makes about 2 / 3', 'cup dressing']\""
      ]
     },
     "execution_count": 9,
     "metadata": {},
     "output_type": "execute_result"
    }
   ],
   "source": [
    "# Find missing name\n",
    "recipes.iloc[238]['steps']\n"
   ]
  },
  {
   "cell_type": "code",
   "execution_count": 10,
   "id": "8f47f5c2",
   "metadata": {},
   "outputs": [
    {
     "name": "stderr",
     "output_type": "stream",
     "text": [
      "/var/folders/1k/2p71sg_x20q3mg91vw9xjqbw0000gn/T/ipykernel_7585/4253574573.py:2: FutureWarning:\n",
      "\n",
      "ChainedAssignmentError: behaviour will change in pandas 3.0!\n",
      "You are setting values through chained assignment. Currently this works in certain cases, but when using Copy-on-Write (which will become the default behaviour in pandas 3.0) this will never work to update the original DataFrame or Series, because the intermediate object on which we are setting values will behave as a copy.\n",
      "A typical example is when you are setting values in a column of a DataFrame, like:\n",
      "\n",
      "df[\"col\"][row_indexer] = value\n",
      "\n",
      "Use `df.loc[row_indexer, \"col\"] = values` instead, to perform the assignment in a single step and ensure this keeps updating the original `df`.\n",
      "\n",
      "See the caveats in the documentation: https://pandas.pydata.org/pandas-docs/stable/user_guide/indexing.html#returning-a-view-versus-a-copy\n",
      "\n",
      "\n"
     ]
    }
   ],
   "source": [
    "# Fill in missing name\n",
    "recipes['name'].iloc[238] = 'Salad Vinegarette'"
   ]
  },
  {
   "cell_type": "code",
   "execution_count": 11,
   "id": "69b7df0b",
   "metadata": {},
   "outputs": [
    {
     "name": "stdout",
     "output_type": "stream",
     "text": [
      "Number of missing descriptions after filling: 0\n"
     ]
    }
   ],
   "source": [
    "# Fill missing descriptions with a placeholder\n",
    "recipes['description'] = recipes['description'].fillna('No description available')\n",
    "\n",
    "print(f\"Number of missing descriptions after filling: {recipes['description'].isna().sum()}\")\n"
   ]
  },
  {
   "cell_type": "code",
   "execution_count": 12,
   "id": "dc6133ec",
   "metadata": {},
   "outputs": [
    {
     "name": "stdout",
     "output_type": "stream",
     "text": [
      "Index(['avg_rating'], dtype='object')"
     ]
    },
    {
     "name": "stdout",
     "output_type": "stream",
     "text": [
      "\n"
     ]
    }
   ],
   "source": [
    "nan_columns = recipes.columns[recipes.isnull().any()]\n",
    "\n",
    "print(nan_columns)"
   ]
  },
  {
   "cell_type": "code",
   "execution_count": 13,
   "id": "8928f723",
   "metadata": {},
   "outputs": [
    {
     "data": {
      "text/html": [
       "<div>\n",
       "<style scoped>\n",
       "    .dataframe tbody tr th:only-of-type {\n",
       "        vertical-align: middle;\n",
       "    }\n",
       "\n",
       "    .dataframe tbody tr th {\n",
       "        vertical-align: top;\n",
       "    }\n",
       "\n",
       "    .dataframe thead th {\n",
       "        text-align: right;\n",
       "    }\n",
       "</style>\n",
       "<table border=\"1\" class=\"dataframe\">\n",
       "  <thead>\n",
       "    <tr style=\"text-align: right;\">\n",
       "      <th></th>\n",
       "      <th>name</th>\n",
       "      <th>id</th>\n",
       "      <th>minutes</th>\n",
       "      <th>contributor_id</th>\n",
       "      <th>...</th>\n",
       "      <th>description</th>\n",
       "      <th>ingredients</th>\n",
       "      <th>n_ingredients</th>\n",
       "      <th>avg_rating</th>\n",
       "    </tr>\n",
       "  </thead>\n",
       "  <tbody>\n",
       "    <tr>\n",
       "      <th>10</th>\n",
       "      <td>lplermagronen</td>\n",
       "      <td>455351</td>\n",
       "      <td>55</td>\n",
       "      <td>1308592</td>\n",
       "      <td>...</td>\n",
       "      <td>known as swiss mac n cheese, älplermagronen wa...</td>\n",
       "      <td>['potato', 'penne pasta', 'onions', 'butter', ...</td>\n",
       "      <td>8</td>\n",
       "      <td>NaN</td>\n",
       "    </tr>\n",
       "    <tr>\n",
       "      <th>14</th>\n",
       "      <td>der wiener schnitzel style chili dog sauce</td>\n",
       "      <td>523359</td>\n",
       "      <td>55</td>\n",
       "      <td>2000414501</td>\n",
       "      <td>...</td>\n",
       "      <td>this was the best chili dog ever invented! i l...</td>\n",
       "      <td>['ground beef', 'ground pork', 'water', 'corns...</td>\n",
       "      <td>14</td>\n",
       "      <td>NaN</td>\n",
       "    </tr>\n",
       "    <tr>\n",
       "      <th>64</th>\n",
       "      <td>boo tiful  jell o cups</td>\n",
       "      <td>505132</td>\n",
       "      <td>50</td>\n",
       "      <td>2549237</td>\n",
       "      <td>...</td>\n",
       "      <td>this was so good...everyone loved them.</td>\n",
       "      <td>['boiling water', 'orange gelatin', 'ice cubes...</td>\n",
       "      <td>5</td>\n",
       "      <td>NaN</td>\n",
       "    </tr>\n",
       "    <tr>\n",
       "      <th>...</th>\n",
       "      <td>...</td>\n",
       "      <td>...</td>\n",
       "      <td>...</td>\n",
       "      <td>...</td>\n",
       "      <td>...</td>\n",
       "      <td>...</td>\n",
       "      <td>...</td>\n",
       "      <td>...</td>\n",
       "      <td>...</td>\n",
       "    </tr>\n",
       "    <tr>\n",
       "      <th>83631</th>\n",
       "      <td>zucchini lemon poppyseed bread</td>\n",
       "      <td>517690</td>\n",
       "      <td>80</td>\n",
       "      <td>508997</td>\n",
       "      <td>...</td>\n",
       "      <td>i wanted to try something a little different w...</td>\n",
       "      <td>['sugar', 'eggs', 'vanilla', 'vegetable oil', ...</td>\n",
       "      <td>14</td>\n",
       "      <td>NaN</td>\n",
       "    </tr>\n",
       "    <tr>\n",
       "      <th>83651</th>\n",
       "      <td>zucchini pancakes with a difference</td>\n",
       "      <td>314963</td>\n",
       "      <td>25</td>\n",
       "      <td>27706</td>\n",
       "      <td>...</td>\n",
       "      <td>this started as a recipe from a mexican cookbo...</td>\n",
       "      <td>['zucchini', 'corn', 'jalapeno', 'egg', 'bisqu...</td>\n",
       "      <td>8</td>\n",
       "      <td>NaN</td>\n",
       "    </tr>\n",
       "    <tr>\n",
       "      <th>83737</th>\n",
       "      <td>zucchini oat bread</td>\n",
       "      <td>292835</td>\n",
       "      <td>105</td>\n",
       "      <td>324390</td>\n",
       "      <td>...</td>\n",
       "      <td>the bh&amp;g $400 winner of the bread and rolls ca...</td>\n",
       "      <td>['nonstick cooking spray', 'sugar', 'ground ci...</td>\n",
       "      <td>15</td>\n",
       "      <td>NaN</td>\n",
       "    </tr>\n",
       "  </tbody>\n",
       "</table>\n",
       "<p>2609 rows × 13 columns</p>\n",
       "</div>"
      ],
      "text/plain": [
       "                                             name      id  minutes  \\\n",
       "10                                  lplermagronen  455351       55   \n",
       "14     der wiener schnitzel style chili dog sauce  523359       55   \n",
       "64                         boo tiful  jell o cups  505132       50   \n",
       "...                                           ...     ...      ...   \n",
       "83631              zucchini lemon poppyseed bread  517690       80   \n",
       "83651         zucchini pancakes with a difference  314963       25   \n",
       "83737                          zucchini oat bread  292835      105   \n",
       "\n",
       "       contributor_id  ...                                        description  \\\n",
       "10            1308592  ...  known as swiss mac n cheese, älplermagronen wa...   \n",
       "14         2000414501  ...  this was the best chili dog ever invented! i l...   \n",
       "64            2549237  ...            this was so good...everyone loved them.   \n",
       "...               ...  ...                                                ...   \n",
       "83631          508997  ...  i wanted to try something a little different w...   \n",
       "83651           27706  ...  this started as a recipe from a mexican cookbo...   \n",
       "83737          324390  ...  the bh&g $400 winner of the bread and rolls ca...   \n",
       "\n",
       "                                             ingredients n_ingredients  \\\n",
       "10     ['potato', 'penne pasta', 'onions', 'butter', ...             8   \n",
       "14     ['ground beef', 'ground pork', 'water', 'corns...            14   \n",
       "64     ['boiling water', 'orange gelatin', 'ice cubes...             5   \n",
       "...                                                  ...           ...   \n",
       "83631  ['sugar', 'eggs', 'vanilla', 'vegetable oil', ...            14   \n",
       "83651  ['zucchini', 'corn', 'jalapeno', 'egg', 'bisqu...             8   \n",
       "83737  ['nonstick cooking spray', 'sugar', 'ground ci...            15   \n",
       "\n",
       "       avg_rating  \n",
       "10            NaN  \n",
       "14            NaN  \n",
       "64            NaN  \n",
       "...           ...  \n",
       "83631         NaN  \n",
       "83651         NaN  \n",
       "83737         NaN  \n",
       "\n",
       "[2609 rows x 13 columns]"
      ]
     },
     "execution_count": 13,
     "metadata": {},
     "output_type": "execute_result"
    }
   ],
   "source": [
    "# Check missing values in Average Rating\n",
    "recipes[recipes['avg_rating'].isna()]"
   ]
  },
  {
   "cell_type": "markdown",
   "id": "9e354326",
   "metadata": {},
   "source": [
    "Decided to leave as NaN, some recipes don't have any ratings"
   ]
  },
  {
   "cell_type": "markdown",
   "id": "a7de9b25",
   "metadata": {},
   "source": [
    "Exploding Nutritional Information"
   ]
  },
  {
   "cell_type": "code",
   "execution_count": 14,
   "id": "2c92a467",
   "metadata": {},
   "outputs": [],
   "source": [
    "# Convert nutrition column from string to list\n",
    "recipes['nutrition'] = recipes['nutrition'].apply(eval)\n"
   ]
  },
  {
   "cell_type": "code",
   "execution_count": 15,
   "id": "61d6b445",
   "metadata": {},
   "outputs": [],
   "source": [
    "# Convert nutrition list into separate columns\n",
    "nutrition_df = pd.DataFrame(recipes['nutrition'].tolist(), \n",
    "                          columns=['calories', 'total fat (PDV)', 'sugar (PDV)', 'sodium (PDV)', 'protein (PDV)', 'saturated fat (PDV)', 'carbohydrates (PDV)'])\n",
    "\n",
    "# Add the nutrition columns to the original dataframe\n",
    "recipes = pd.concat([recipes, nutrition_df], axis=1)\n"
   ]
  },
  {
   "cell_type": "markdown",
   "id": "2b01d036",
   "metadata": {},
   "source": [
    "Converting Times to DateTime"
   ]
  },
  {
   "cell_type": "code",
   "execution_count": 16,
   "id": "a3efc4d0",
   "metadata": {},
   "outputs": [],
   "source": [
    "recipes['submitted'] = pd.to_datetime(recipes['submitted'])"
   ]
  },
  {
   "cell_type": "code",
   "execution_count": 17,
   "id": "4095f09c",
   "metadata": {},
   "outputs": [
    {
     "data": {
      "text/html": [
       "<div>\n",
       "<style scoped>\n",
       "    .dataframe tbody tr th:only-of-type {\n",
       "        vertical-align: middle;\n",
       "    }\n",
       "\n",
       "    .dataframe tbody tr th {\n",
       "        vertical-align: top;\n",
       "    }\n",
       "\n",
       "    .dataframe thead th {\n",
       "        text-align: right;\n",
       "    }\n",
       "</style>\n",
       "<table border=\"1\" class=\"dataframe\">\n",
       "  <thead>\n",
       "    <tr style=\"text-align: right;\">\n",
       "      <th></th>\n",
       "      <th>name</th>\n",
       "      <th>id</th>\n",
       "      <th>minutes</th>\n",
       "      <th>contributor_id</th>\n",
       "      <th>...</th>\n",
       "      <th>sodium (PDV)</th>\n",
       "      <th>protein (PDV)</th>\n",
       "      <th>saturated fat (PDV)</th>\n",
       "      <th>carbohydrates (PDV)</th>\n",
       "    </tr>\n",
       "  </thead>\n",
       "  <tbody>\n",
       "    <tr>\n",
       "      <th>0</th>\n",
       "      <td>1 brownies in the world    best ever</td>\n",
       "      <td>333281</td>\n",
       "      <td>40</td>\n",
       "      <td>985201</td>\n",
       "      <td>...</td>\n",
       "      <td>3.0</td>\n",
       "      <td>3.0</td>\n",
       "      <td>19.0</td>\n",
       "      <td>6.0</td>\n",
       "    </tr>\n",
       "    <tr>\n",
       "      <th>1</th>\n",
       "      <td>1 in canada chocolate chip cookies</td>\n",
       "      <td>453467</td>\n",
       "      <td>45</td>\n",
       "      <td>1848091</td>\n",
       "      <td>...</td>\n",
       "      <td>22.0</td>\n",
       "      <td>13.0</td>\n",
       "      <td>51.0</td>\n",
       "      <td>26.0</td>\n",
       "    </tr>\n",
       "    <tr>\n",
       "      <th>2</th>\n",
       "      <td>412 broccoli casserole</td>\n",
       "      <td>306168</td>\n",
       "      <td>40</td>\n",
       "      <td>50969</td>\n",
       "      <td>...</td>\n",
       "      <td>32.0</td>\n",
       "      <td>22.0</td>\n",
       "      <td>36.0</td>\n",
       "      <td>3.0</td>\n",
       "    </tr>\n",
       "    <tr>\n",
       "      <th>3</th>\n",
       "      <td>millionaire pound cake</td>\n",
       "      <td>286009</td>\n",
       "      <td>120</td>\n",
       "      <td>461724</td>\n",
       "      <td>...</td>\n",
       "      <td>13.0</td>\n",
       "      <td>20.0</td>\n",
       "      <td>123.0</td>\n",
       "      <td>39.0</td>\n",
       "    </tr>\n",
       "    <tr>\n",
       "      <th>4</th>\n",
       "      <td>2000 meatloaf</td>\n",
       "      <td>475785</td>\n",
       "      <td>90</td>\n",
       "      <td>2202916</td>\n",
       "      <td>...</td>\n",
       "      <td>12.0</td>\n",
       "      <td>29.0</td>\n",
       "      <td>48.0</td>\n",
       "      <td>2.0</td>\n",
       "    </tr>\n",
       "  </tbody>\n",
       "</table>\n",
       "<p>5 rows × 20 columns</p>\n",
       "</div>"
      ],
      "text/plain": [
       "                                   name      id  minutes  contributor_id  ...  \\\n",
       "0  1 brownies in the world    best ever  333281       40          985201  ...   \n",
       "1    1 in canada chocolate chip cookies  453467       45         1848091  ...   \n",
       "2                412 broccoli casserole  306168       40           50969  ...   \n",
       "3                millionaire pound cake  286009      120          461724  ...   \n",
       "4                         2000 meatloaf  475785       90         2202916  ...   \n",
       "\n",
       "  sodium (PDV) protein (PDV) saturated fat (PDV)  carbohydrates (PDV)  \n",
       "0          3.0           3.0                19.0                  6.0  \n",
       "1         22.0          13.0                51.0                 26.0  \n",
       "2         32.0          22.0                36.0                  3.0  \n",
       "3         13.0          20.0               123.0                 39.0  \n",
       "4         12.0          29.0                48.0                  2.0  \n",
       "\n",
       "[5 rows x 20 columns]"
      ]
     },
     "execution_count": 17,
     "metadata": {},
     "output_type": "execute_result"
    }
   ],
   "source": [
    "recipes.head()"
   ]
  },
  {
   "cell_type": "markdown",
   "id": "b9920c1c",
   "metadata": {},
   "source": [
    "## Assessment of Missingness"
   ]
  },
  {
   "cell_type": "code",
   "execution_count": 18,
   "id": "b72559bb",
   "metadata": {},
   "outputs": [],
   "source": [
    "# to do"
   ]
  },
  {
   "cell_type": "markdown",
   "id": "59aa80be",
   "metadata": {},
   "source": [
    "## Hypothesis Testing"
   ]
  },
  {
   "cell_type": "code",
   "execution_count": 19,
   "id": "2e2e446a",
   "metadata": {},
   "outputs": [],
   "source": [
    "# to do"
   ]
  },
  {
   "cell_type": "markdown",
   "id": "13addd9a",
   "metadata": {},
   "source": [
    "## Framing a Prediction Problem"
   ]
  },
  {
   "cell_type": "code",
   "execution_count": 20,
   "id": "87f5f5c6",
   "metadata": {},
   "outputs": [],
   "source": [
    "# to do"
   ]
  },
  {
   "cell_type": "markdown",
   "id": "6c1ca11b",
   "metadata": {},
   "source": [
    "## Baseline Model"
   ]
  },
  {
   "cell_type": "code",
   "execution_count": 21,
   "id": "7ba7ccbd",
   "metadata": {},
   "outputs": [],
   "source": [
    "# to do"
   ]
  },
  {
   "cell_type": "markdown",
   "id": "bdf1a8fa",
   "metadata": {},
   "source": [
    "## Final Model"
   ]
  },
  {
   "cell_type": "code",
   "execution_count": 22,
   "id": "54409a7d",
   "metadata": {},
   "outputs": [],
   "source": [
    "# to do"
   ]
  },
  {
   "cell_type": "markdown",
   "id": "31493641",
   "metadata": {},
   "source": [
    "## Fairness Analysis"
   ]
  },
  {
   "cell_type": "code",
   "execution_count": 23,
   "id": "319aef0e",
   "metadata": {},
   "outputs": [],
   "source": [
    "# to do"
   ]
  }
 ],
 "metadata": {
  "kernelspec": {
   "display_name": "dsc80",
   "language": "python",
   "name": "python3"
  },
  "language_info": {
   "codemirror_mode": {
    "name": "ipython",
    "version": 3
   },
   "file_extension": ".py",
   "mimetype": "text/x-python",
   "name": "python",
   "nbconvert_exporter": "python",
   "pygments_lexer": "ipython3",
   "version": "3.12.10"
  }
 },
 "nbformat": 4,
 "nbformat_minor": 5
}
